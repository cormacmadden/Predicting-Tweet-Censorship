{
 "cells": [
  {
   "cell_type": "code",
   "execution_count": 14,
   "metadata": {},
   "outputs": [],
   "source": [
    "import numpy as np\n",
    "import matplotlib.pyplot as plt\n",
    "import pandas as pd\n",
    "import string\n",
    "from sklearn.utils import shuffle\n",
    "from sklearn.model_selection import train_test_split\n",
    "import numpy as np\n",
    "import pandas as pd\n",
    "import matplotlib.pyplot as plt\n",
    "from sklearn.feature_extraction.text import CountVectorizer\n",
    "from sklearn.model_selection import train_test_split\n",
    "from sklearn.naive_bayes import MultinomialNB\n",
    "from sklearn.utils import shuffle\n",
    "from sklearn.metrics import confusion_matrix, classification_report\n",
    "from sklearn.feature_extraction.text import TfidfVectorizer\n",
    "from sklearn.metrics import roc_curve\n",
    "\n"
   ]
  },
  {
   "cell_type": "markdown",
   "metadata": {},
   "source": [
    "# Read Data"
   ]
  },
  {
   "cell_type": "code",
   "execution_count": 15,
   "metadata": {},
   "outputs": [],
   "source": [
    "#Import Censored Data\n",
    "censored_df=pd.read_csv('censored_tweets.csv')\n",
    "censored_df = pd.DataFrame(censored_df)\n",
    "censored_df.insert(loc=3, column='y', value=1)\n",
    "censored_df = censored_df.drop(['id','lang'],axis=1)\n",
    "\n",
    "#import regular tweets\n",
    "uncensored_df=pd.read_csv('regular_tweets.csv')\n",
    "uncensored_df = pd.DataFrame(uncensored_df)\n",
    "uncensored_df.insert(loc=3, column='y', value=0)\n",
    "uncensored_df = uncensored_df.drop(['id','lang'],axis=1)\n",
    "\n",
    "#process tweets\n",
    "uncensored_df[\"text\"].apply(lambda t: t.lower().translate(str.maketrans('', '', string.punctuation)))\n",
    "censored_df[\"text\"].apply(lambda t: t.lower().translate(str.maketrans('', '', string.punctuation)))\n",
    "\n",
    "#merge and shufflem\n",
    "df = pd.concat([censored_df, uncensored_df], ignore_index=True, sort=False)\n",
    "df = shuffle(df)\n",
    "df_x=df[\"text\"]\n",
    "df_y=df[\"y\"]"
   ]
  },
  {
   "cell_type": "code",
   "execution_count": 16,
   "metadata": {},
   "outputs": [
    {
     "data": {
      "text/html": [
       "<div>\n",
       "<style scoped>\n",
       "    .dataframe tbody tr th:only-of-type {\n",
       "        vertical-align: middle;\n",
       "    }\n",
       "\n",
       "    .dataframe tbody tr th {\n",
       "        vertical-align: top;\n",
       "    }\n",
       "\n",
       "    .dataframe thead th {\n",
       "        text-align: right;\n",
       "    }\n",
       "</style>\n",
       "<table border=\"1\" class=\"dataframe\">\n",
       "  <thead>\n",
       "    <tr style=\"text-align: right;\">\n",
       "      <th></th>\n",
       "      <th>text</th>\n",
       "      <th>y</th>\n",
       "    </tr>\n",
       "  </thead>\n",
       "  <tbody>\n",
       "    <tr>\n",
       "      <th>1060</th>\n",
       "      <td>MUSLIMS... just say it. https://t.co/uRcMtOdWGN</td>\n",
       "      <td>1</td>\n",
       "    </tr>\n",
       "    <tr>\n",
       "      <th>663</th>\n",
       "      <td>'Master negotiator/dealmaker'  @KellyannePolls...</td>\n",
       "      <td>1</td>\n",
       "    </tr>\n",
       "    <tr>\n",
       "      <th>2376</th>\n",
       "      <td>That’s what happens when you bring back a show...</td>\n",
       "      <td>0</td>\n",
       "    </tr>\n",
       "    <tr>\n",
       "      <th>1396</th>\n",
       "      <td>respect woman https://t.co/4yns5wWs5E</td>\n",
       "      <td>1</td>\n",
       "    </tr>\n",
       "    <tr>\n",
       "      <th>3457</th>\n",
       "      <td>Hillary Clinton says Democrats are so socialis...</td>\n",
       "      <td>0</td>\n",
       "    </tr>\n",
       "    <tr>\n",
       "      <th>...</th>\n",
       "      <td>...</td>\n",
       "      <td>...</td>\n",
       "    </tr>\n",
       "    <tr>\n",
       "      <th>2902</th>\n",
       "      <td>Beautiful https://t.co/LiHZPH2gNG</td>\n",
       "      <td>0</td>\n",
       "    </tr>\n",
       "    <tr>\n",
       "      <th>2867</th>\n",
       "      <td>Sneakerhead 🌸✨One of the illustrations I did f...</td>\n",
       "      <td>0</td>\n",
       "    </tr>\n",
       "    <tr>\n",
       "      <th>706</th>\n",
       "      <td>ALERT! I NEED YOUR HELP - This is SHOCKING!   ...</td>\n",
       "      <td>1</td>\n",
       "    </tr>\n",
       "    <tr>\n",
       "      <th>1821</th>\n",
       "      <td>@YasinKesen @cevheriguven @jack Dear @Jack My ...</td>\n",
       "      <td>1</td>\n",
       "    </tr>\n",
       "    <tr>\n",
       "      <th>3472</th>\n",
       "      <td>@FaZeJev Thank god</td>\n",
       "      <td>0</td>\n",
       "    </tr>\n",
       "  </tbody>\n",
       "</table>\n",
       "<p>3888 rows × 2 columns</p>\n",
       "</div>"
      ],
      "text/plain": [
       "                                                   text  y\n",
       "1060    MUSLIMS... just say it. https://t.co/uRcMtOdWGN  1\n",
       "663   'Master negotiator/dealmaker'  @KellyannePolls...  1\n",
       "2376  That’s what happens when you bring back a show...  0\n",
       "1396              respect woman https://t.co/4yns5wWs5E  1\n",
       "3457  Hillary Clinton says Democrats are so socialis...  0\n",
       "...                                                 ... ..\n",
       "2902                  Beautiful https://t.co/LiHZPH2gNG  0\n",
       "2867  Sneakerhead 🌸✨One of the illustrations I did f...  0\n",
       "706   ALERT! I NEED YOUR HELP - This is SHOCKING!   ...  1\n",
       "1821  @YasinKesen @cevheriguven @jack Dear @Jack My ...  1\n",
       "3472                                 @FaZeJev Thank god  0\n",
       "\n",
       "[3888 rows x 2 columns]"
      ]
     },
     "execution_count": 16,
     "metadata": {},
     "output_type": "execute_result"
    }
   ],
   "source": [
    "df"
   ]
  },
  {
   "cell_type": "code",
   "execution_count": 17,
   "metadata": {},
   "outputs": [
    {
     "name": "stdout",
     "output_type": "stream",
     "text": [
      "fraction of censored tweets 0.4909967845659164\n"
     ]
    }
   ],
   "source": [
    "x_train, x_test, y_train, y_test = train_test_split(df_x, df_y, test_size=0.2, random_state=4)\n",
    "print(\"fraction of censored tweets\", y_train.mean())"
   ]
  },
  {
   "cell_type": "code",
   "execution_count": 18,
   "metadata": {},
   "outputs": [
    {
     "data": {
      "text/plain": [
       "1829    Austria Takes Over Rotating EU Presidency, Ple...\n",
       "3236    dear internationals,  have so much fun like wh...\n",
       "2001    How much have the Trump brothers' overseas bus...\n",
       "528     #Krauthammer is a traitor. Don’t feel bad for ...\n",
       "3291    this k-army showed her friends how loved and s...\n",
       "                              ...                        \n",
       "3693    guess im a vegan now 👀👅😍🔥 https://t.co/kqgeLnl3cE\n",
       "1237    #Turkish #government #fascism at work: https:/...\n",
       "3296    Oh and ANOTHER THING.   Dancehall is not Regga...\n",
       "1739    Military is a family affair of true AMERICAN P...\n",
       "500     \"Immigration is not a Jewish conspiracy, you f...\n",
       "Name: text, Length: 3110, dtype: object"
      ]
     },
     "execution_count": 18,
     "metadata": {},
     "output_type": "execute_result"
    }
   ],
   "source": [
    "x_train"
   ]
  },
  {
   "cell_type": "markdown",
   "metadata": {},
   "source": [
    "# Create Spam Bag of Words and Non-Spam Bag of Words"
   ]
  },
  {
   "cell_type": "code",
   "execution_count": 19,
   "metadata": {},
   "outputs": [],
   "source": [
    "\n",
    "#get bag of censored words & bag of uncensored words\n",
    "x_train_censored = x_train[y_train == 1]\n",
    "x_train_uncensored = x_train[y_train == 0]\n",
    "\n",
    "train_censored_bag = ' '.join(x_train_censored).split(' ')\n",
    "train_uncensored_bag = ' '.join(x_train_uncensored).split(' ')\n",
    "common_words = set(train_censored_bag).intersection(set(train_uncensored_bag))"
   ]
  },
  {
   "cell_type": "code",
   "execution_count": 20,
   "metadata": {},
   "outputs": [],
   "source": [
    "train_censored_bow = dict()\n",
    "for w in common_words:\n",
    "    train_censored_bow[w] = train_censored_bag.count(w) / len(train_censored_bag)"
   ]
  },
  {
   "cell_type": "code",
   "execution_count": 21,
   "metadata": {},
   "outputs": [],
   "source": [
    "train_uncensored_bow = dict()\n",
    "for w in common_words:\n",
    "    train_uncensored_bow[w] = train_uncensored_bag.count(w) / len(train_uncensored_bag)"
   ]
  },
  {
   "cell_type": "markdown",
   "metadata": {},
   "source": [
    "# Predict on Test Set"
   ]
  },
  {
   "cell_type": "code",
   "execution_count": 22,
   "metadata": {},
   "outputs": [],
   "source": [
    "def predict_text(t, verbose=False):\n",
    "    #if some word doesnt appear in either spam or non-spam BOW, disregard it\n",
    "    valid_words = [w for w in t if w in train_censored_bow]\n",
    "    \n",
    "    #get the probabilities of each valid word showing up in spam and non-spam BOW\n",
    "    censored_probs = [train_censored_bow[w] for w in valid_words]\n",
    "    uncensored_probs = [train_uncensored_bow[w] for w in valid_words]\n",
    "    \n",
    "    #print probs if requested\n",
    "    if verbose:\n",
    "        data_df = pd.DataFrame()\n",
    "        data_df['word'] = valid_words\n",
    "        data_df['censored_prob'] = censored_probs\n",
    "        data_df['uncensored_prob'] = uncensored_probs\n",
    "        data_df['ratio'] = [c/u if u > 0 else np.inf for c,u in zip(censored_probs, uncensored_probs)]\n",
    "        print(data_df)\n",
    "     \n",
    "    #calculate spam score as sum of logs for all probabilities\n",
    "    censored_score = sum([np.log(p) for p in censored_probs]) + np.log(y_train.mean())\n",
    "    \n",
    "    #calculate non-spam score as sum of logs for all probabilities\n",
    "    uncensored_score = sum([np.log(p) for p in uncensored_probs]) + np.log(1-y_train.mean())\n",
    "    \n",
    "    #if verbose, report the two scores\n",
    "    if verbose:\n",
    "        print('censored score: %s'%censored_score)\n",
    "        print('uncensored score: %s'%uncensored_score)\n",
    "   \n",
    "    #if spam score is higher, mark this as spam\n",
    "    return (censored_score >= uncensored_score)"
   ]
  },
  {
   "cell_type": "code",
   "execution_count": 23,
   "metadata": {},
   "outputs": [
    {
     "name": "stdout",
     "output_type": "stream",
     "text": [
      "    word  censored_prob  uncensored_prob     ratio\n",
      "0      I       0.004329         0.010687  0.405038\n",
      "1  think       0.000435         0.000534  0.814869\n",
      "2     is       0.012243         0.010259  1.193344\n",
      "3    the       0.029813         0.023796  1.252872\n",
      "4  worst       0.000102         0.000142  0.719002\n",
      "censored score: -30.9947773282574\n",
      "uncensored score: -29.92256484105663\n"
     ]
    },
    {
     "data": {
      "text/plain": [
       "False"
      ]
     },
     "execution_count": 23,
     "metadata": {},
     "output_type": "execute_result"
    }
   ],
   "source": [
    "predict_text('I think turkey is the worst'.split(), verbose=True)"
   ]
  },
  {
   "cell_type": "code",
   "execution_count": 24,
   "metadata": {},
   "outputs": [],
   "source": [
    "predictions = x_test.apply(lambda t: predict_text(t.split()))"
   ]
  },
  {
   "cell_type": "code",
   "execution_count": 25,
   "metadata": {},
   "outputs": [
    {
     "name": "stdout",
     "output_type": "stream",
     "text": [
      "Fraction censored Correctly Detected: 0.4639423076923077\n"
     ]
    }
   ],
   "source": [
    "confusion_matrix(y_test, predictions)\n",
    "print(classification_report(y_test, predictions))\n",
    "print(\"Accuracy: \", mnb.score(x_testcv, y_test))"
   ]
  },
  {
   "cell_type": "code",
   "execution_count": 26,
   "metadata": {},
   "outputs": [
    {
     "name": "stdout",
     "output_type": "stream",
     "text": [
      "Fraction uncensored identified as censored: 0.7956730769230769\n"
     ]
    }
   ],
   "source": [
    "scores = mnb.predict_proba(x_testcv)\n",
    "fpr, tpr, _ = roc_curve(y_test, scores[:, 1])\n",
    "plt.plot(fpr, tpr)\n",
    "\n",
    "#Plot\n",
    "plt.title('ROC Curves')\n",
    "plt.xlabel('False positive rate'); plt.ylabel('True positive rate')\n",
    "plt.legend(['Logistic Regression'])\n",
    "plt.show()"
   ]
  }
 ],
 "metadata": {
  "kernelspec": {
   "display_name": "Python 3.9.12 ('base')",
   "language": "python",
   "name": "python3"
  },
  "language_info": {
   "codemirror_mode": {
    "name": "ipython",
    "version": 3
   },
   "file_extension": ".py",
   "mimetype": "text/x-python",
   "name": "python",
   "nbconvert_exporter": "python",
   "pygments_lexer": "ipython3",
   "version": "3.9.12"
  },
  "vscode": {
   "interpreter": {
    "hash": "1b89dcac819fe225afee5ba779c1b9eb7f47a508210dc4f19f923ae54038aba7"
   }
  }
 },
 "nbformat": 4,
 "nbformat_minor": 4
}
