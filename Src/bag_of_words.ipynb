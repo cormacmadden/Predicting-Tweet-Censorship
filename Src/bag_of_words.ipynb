{
 "cells": [
  {
   "cell_type": "code",
   "execution_count": 69,
   "metadata": {},
   "outputs": [],
   "source": [
    "import numpy as np\n",
    "import matplotlib.pyplot as plt\n",
    "import pandas as pd\n",
    "import string\n",
    "from sklearn.utils import shuffle\n",
    "from sklearn.model_selection import train_test_split\n",
    "import numpy as np\n",
    "import pandas as pd\n",
    "import matplotlib.pyplot as plt\n",
    "from sklearn.feature_extraction.text import CountVectorizer\n",
    "from sklearn.model_selection import train_test_split\n",
    "from sklearn.naive_bayes import MultinomialNB\n",
    "from sklearn.utils import shuffle\n",
    "from sklearn.metrics import confusion_matrix, classification_report\n",
    "from sklearn.feature_extraction.text import TfidfVectorizer\n",
    "from sklearn.metrics import roc_curve\n",
    "\n"
   ]
  },
  {
   "cell_type": "markdown",
   "metadata": {},
   "source": [
    "# Read Data"
   ]
  },
  {
   "cell_type": "code",
   "execution_count": 70,
   "metadata": {},
   "outputs": [],
   "source": [
    "#Import Censored Data\n",
    "censored_df=pd.read_csv('censored_tweets.csv')\n",
    "censored_df = pd.DataFrame(censored_df)\n",
    "censored_df.insert(loc=3, column='y', value=1)\n",
    "censored_df = censored_df.drop(['id','lang'],axis=1)\n",
    "\n",
    "#import regular tweets\n",
    "uncensored_df=pd.read_csv('regular_tweets.csv')\n",
    "uncensored_df = pd.DataFrame(uncensored_df)\n",
    "uncensored_df.insert(loc=3, column='y', value=0)\n",
    "uncensored_df = uncensored_df.drop(['id','lang'],axis=1)\n",
    "\n",
    "#process tweets\n",
    "uncensored_df[\"text\"].apply(lambda t: t.lower().translate(str.maketrans('', '', string.punctuation)))\n",
    "censored_df[\"text\"].apply(lambda t: t.lower().translate(str.maketrans('', '', string.punctuation)))\n",
    "\n",
    "#merge and shufflem\n",
    "df = pd.concat([censored_df, uncensored_df], ignore_index=True, sort=False)\n",
    "df = shuffle(df)\n",
    "df_x=df[\"text\"]\n",
    "df_y=df[\"y\"]"
   ]
  },
  {
   "cell_type": "code",
   "execution_count": 71,
   "metadata": {},
   "outputs": [
    {
     "data": {
      "text/html": [
       "<div>\n",
       "<style scoped>\n",
       "    .dataframe tbody tr th:only-of-type {\n",
       "        vertical-align: middle;\n",
       "    }\n",
       "\n",
       "    .dataframe tbody tr th {\n",
       "        vertical-align: top;\n",
       "    }\n",
       "\n",
       "    .dataframe thead th {\n",
       "        text-align: right;\n",
       "    }\n",
       "</style>\n",
       "<table border=\"1\" class=\"dataframe\">\n",
       "  <thead>\n",
       "    <tr style=\"text-align: right;\">\n",
       "      <th></th>\n",
       "      <th>text</th>\n",
       "      <th>y</th>\n",
       "    </tr>\n",
       "  </thead>\n",
       "  <tbody>\n",
       "    <tr>\n",
       "      <th>2054</th>\n",
       "      <td>Richard Spencer—the Nazi sympathizer who blitz...</td>\n",
       "      <td>0</td>\n",
       "    </tr>\n",
       "    <tr>\n",
       "      <th>2989</th>\n",
       "      <td>👀 Coming soon... @StoolGametime @KFCBarstool #...</td>\n",
       "      <td>0</td>\n",
       "    </tr>\n",
       "    <tr>\n",
       "      <th>1624</th>\n",
       "      <td>Russia Watches Europe Commit Suicide By Migrat...</td>\n",
       "      <td>1</td>\n",
       "    </tr>\n",
       "    <tr>\n",
       "      <th>3726</th>\n",
       "      <td>Kanye West’s support of the President is a per...</td>\n",
       "      <td>0</td>\n",
       "    </tr>\n",
       "    <tr>\n",
       "      <th>3057</th>\n",
       "      <td>In this month of May of Annointing, get prepar...</td>\n",
       "      <td>0</td>\n",
       "    </tr>\n",
       "    <tr>\n",
       "      <th>...</th>\n",
       "      <td>...</td>\n",
       "      <td>...</td>\n",
       "    </tr>\n",
       "    <tr>\n",
       "      <th>1117</th>\n",
       "      <td>1/2Leaked document from Assad regime forces in...</td>\n",
       "      <td>1</td>\n",
       "    </tr>\n",
       "    <tr>\n",
       "      <th>3211</th>\n",
       "      <td>Papa @Gurmeetramrahim G Bless me to  do it wit...</td>\n",
       "      <td>0</td>\n",
       "    </tr>\n",
       "    <tr>\n",
       "      <th>2799</th>\n",
       "      <td>preview of 👋  #ทีมพีรญา  #SingtoKrist  #peraya...</td>\n",
       "      <td>0</td>\n",
       "    </tr>\n",
       "    <tr>\n",
       "      <th>1303</th>\n",
       "      <td>A large number of regime soldiers were capture...</td>\n",
       "      <td>1</td>\n",
       "    </tr>\n",
       "    <tr>\n",
       "      <th>797</th>\n",
       "      <td>Next on @CNN: why world peace is bad for your ...</td>\n",
       "      <td>1</td>\n",
       "    </tr>\n",
       "  </tbody>\n",
       "</table>\n",
       "<p>3888 rows × 2 columns</p>\n",
       "</div>"
      ],
      "text/plain": [
       "                                                   text  y\n",
       "2054  Richard Spencer—the Nazi sympathizer who blitz...  0\n",
       "2989  👀 Coming soon... @StoolGametime @KFCBarstool #...  0\n",
       "1624  Russia Watches Europe Commit Suicide By Migrat...  1\n",
       "3726  Kanye West’s support of the President is a per...  0\n",
       "3057  In this month of May of Annointing, get prepar...  0\n",
       "...                                                 ... ..\n",
       "1117  1/2Leaked document from Assad regime forces in...  1\n",
       "3211  Papa @Gurmeetramrahim G Bless me to  do it wit...  0\n",
       "2799  preview of 👋  #ทีมพีรญา  #SingtoKrist  #peraya...  0\n",
       "1303  A large number of regime soldiers were capture...  1\n",
       "797   Next on @CNN: why world peace is bad for your ...  1\n",
       "\n",
       "[3888 rows x 2 columns]"
      ]
     },
     "execution_count": 71,
     "metadata": {},
     "output_type": "execute_result"
    }
   ],
   "source": [
    "df"
   ]
  },
  {
   "cell_type": "code",
   "execution_count": 72,
   "metadata": {},
   "outputs": [
    {
     "name": "stdout",
     "output_type": "stream",
     "text": [
      "fraction of censored tweets 0.4797427652733119\n"
     ]
    }
   ],
   "source": [
    "x_train, x_test, y_train, y_test = train_test_split(df_x, df_y, test_size=0.2, random_state=4)\n",
    "print(\"fraction of censored tweets\", y_train.mean())"
   ]
  },
  {
   "cell_type": "code",
   "execution_count": 73,
   "metadata": {},
   "outputs": [
    {
     "data": {
      "text/plain": [
       "1849    \"Future leader of South Africa\", when publicly...\n",
       "3229                 @sujeongtheryu Lol i don't know too😂\n",
       "1120    SPIELEN  #Casino - Up to GBP1000 Welcome bonus...\n",
       "139     @GatestoneInst 30 day FB ban for posting pics ...\n",
       "323     Joel Payne: \"If we can't trust our president t...\n",
       "                              ...                        \n",
       "1967           @MichiChar27 !!!!!! Heck yeah buddy!!!! ♡♡\n",
       "915     Dear Media...  Even if you don't like Trump, i...\n",
       "1561    Reports continue to come indicating #Iran mull...\n",
       "96      Today I Learned Buildings Can Get Cancer https...\n",
       "3447    Share this to weed out all the immature people...\n",
       "Name: text, Length: 3110, dtype: object"
      ]
     },
     "execution_count": 73,
     "metadata": {},
     "output_type": "execute_result"
    }
   ],
   "source": [
    "x_train"
   ]
  },
  {
   "cell_type": "markdown",
   "metadata": {},
   "source": [
    "# Create Spam Bag of Words and Non-Spam Bag of Words"
   ]
  },
  {
   "cell_type": "code",
   "execution_count": 74,
   "metadata": {},
   "outputs": [],
   "source": [
    "\n",
    "#get bag of censored words & bag of uncensored words\n",
    "x_train_censored = x_train[y_train == 1]\n",
    "x_train_uncensored = x_train[y_train == 0]\n",
    "\n",
    "train_censored_bag = ' '.join(x_train_censored).split(' ')\n",
    "train_uncensored_bag = ' '.join(x_train_uncensored).split(' ')\n",
    "total_words = set(train_censored_bag).union(set(train_uncensored_bag))"
   ]
  },
  {
   "cell_type": "code",
   "execution_count": 75,
   "metadata": {},
   "outputs": [],
   "source": [
    "train_censored_bow = dict()\n",
    "for w in total_words:\n",
    "    train_censored_bow[w] = train_censored_bag.count(w) / len(train_censored_bag)"
   ]
  },
  {
   "cell_type": "code",
   "execution_count": 76,
   "metadata": {},
   "outputs": [],
   "source": [
    "train_uncensored_bow = dict()\n",
    "for w in total_words:\n",
    "    train_uncensored_bow[w] = train_uncensored_bag.count(w) / len(train_uncensored_bag)"
   ]
  },
  {
   "cell_type": "markdown",
   "metadata": {},
   "source": [
    "# Predict on Test Set"
   ]
  },
  {
   "cell_type": "code",
   "execution_count": 77,
   "metadata": {},
   "outputs": [],
   "source": [
    "def predict_text(t, verbose=False):\n",
    "    #if some word doesnt appear in either censored or non-censored BOW, disregard it\n",
    "    valid_words = [w for w in t if (w in train_uncensored_bag) or (w in train_censored_bag)]\n",
    "    \n",
    "    #get the probabilities of each valid word showing up in spam and non-spam BOW\n",
    "    censored_probs = [train_censored_bow[w]+ 0.000001 for w in valid_words]\n",
    "    uncensored_probs = [train_uncensored_bow[w]+ 0.000001 for w in valid_words]\n",
    "    \n",
    "    #print probs if requested\n",
    "    if verbose:\n",
    "        data_df = pd.DataFrame()\n",
    "        data_df['word'] = valid_words\n",
    "        data_df['censored_prob'] = censored_probs\n",
    "        data_df['uncensored_prob'] = uncensored_probs\n",
    "        data_df['ratio'] = [c/u if u > 0 else np.inf for c,u in zip(censored_probs, uncensored_probs)]\n",
    "        print(data_df)\n",
    "     \n",
    "    #calculate spam score as sum of logs for all probabilities\n",
    "    censored_score = sum([np.log(p) for p in censored_probs]) + np.log(y_train.mean())\n",
    "    \n",
    "    #calculate non-spam score as sum of logs for all probabilities\n",
    "    uncensored_score = sum([np.log(p) for p in uncensored_probs]) + np.log(1-y_train.mean())\n",
    "    \n",
    "    #if verbose, report the two scores\n",
    "    if verbose:\n",
    "        print('censored score: %s'%censored_score)\n",
    "        print('uncensored score: %s'%uncensored_score)\n",
    "   \n",
    "    #if spam score is higher, mark this as spam\n",
    "    return (censored_score >= uncensored_score)"
   ]
  },
  {
   "cell_type": "code",
   "execution_count": 83,
   "metadata": {},
   "outputs": [
    {
     "name": "stdout",
     "output_type": "stream",
     "text": [
      "     word  censored_prob  uncensored_prob       ratio\n",
      "0  Hitler       0.000294         0.000001  293.615450\n",
      "1     was       0.003034         0.003287    0.922954\n",
      "2     the       0.030619         0.025169    1.216555\n",
      "3   worst       0.000107         0.000106    1.014545\n",
      "4  leader       0.000267         0.000036    7.426287\n",
      "censored score: -35.51899809077263\n",
      "uncensored score: -43.25550961655299\n"
     ]
    },
    {
     "data": {
      "text/plain": [
       "True"
      ]
     },
     "execution_count": 83,
     "metadata": {},
     "output_type": "execute_result"
    }
   ],
   "source": [
    "predict_text('Hitler was the worst leader'.split(), verbose=True)"
   ]
  },
  {
   "cell_type": "code",
   "execution_count": 79,
   "metadata": {},
   "outputs": [],
   "source": [
    "predictions = x_test.apply(lambda t: predict_text(t.split()))"
   ]
  },
  {
   "cell_type": "code",
   "execution_count": 80,
   "metadata": {},
   "outputs": [
    {
     "name": "stdout",
     "output_type": "stream",
     "text": [
      "              precision    recall  f1-score   support\n",
      "\n",
      "           0       0.77      0.76      0.76       381\n",
      "           1       0.77      0.78      0.77       397\n",
      "\n",
      "    accuracy                           0.77       778\n",
      "   macro avg       0.77      0.77      0.77       778\n",
      "weighted avg       0.77      0.77      0.77       778\n",
      "\n"
     ]
    },
    {
     "ename": "NameError",
     "evalue": "name 'mnb' is not defined",
     "output_type": "error",
     "traceback": [
      "\u001b[1;31m---------------------------------------------------------------------------\u001b[0m",
      "\u001b[1;31mNameError\u001b[0m                                 Traceback (most recent call last)",
      "Cell \u001b[1;32mIn [80], line 3\u001b[0m\n\u001b[0;32m      1\u001b[0m confusion_matrix(y_test, predictions)\n\u001b[0;32m      2\u001b[0m \u001b[39mprint\u001b[39m(classification_report(y_test, predictions))\n\u001b[1;32m----> 3\u001b[0m \u001b[39mprint\u001b[39m(\u001b[39m\"\u001b[39m\u001b[39mAccuracy: \u001b[39m\u001b[39m\"\u001b[39m, mnb\u001b[39m.\u001b[39mscore(x_testcv, y_test))\n",
      "\u001b[1;31mNameError\u001b[0m: name 'mnb' is not defined"
     ]
    }
   ],
   "source": [
    "confusion_matrix(y_test, predictions)\n",
    "print(classification_report(y_test, predictions))\n",
    "print(\"Accuracy: \", mnb.score(x_testcv, y_test))"
   ]
  },
  {
   "cell_type": "code",
   "execution_count": null,
   "metadata": {},
   "outputs": [
    {
     "name": "stdout",
     "output_type": "stream",
     "text": [
      "Fraction uncensored identified as censored: 0.7956730769230769\n"
     ]
    }
   ],
   "source": [
    "scores = mnb.predict_proba(x_testcv)\n",
    "fpr, tpr, _ = roc_curve(y_test, scores[:, 1])\n",
    "plt.plot(fpr, tpr)\n",
    "\n",
    "#Plot\n",
    "plt.title('ROC Curves')\n",
    "plt.xlabel('False positive rate'); plt.ylabel('True positive rate')\n",
    "plt.legend(['Logistic Regression'])\n",
    "plt.show()"
   ]
  }
 ],
 "metadata": {
  "kernelspec": {
   "display_name": "Python 3.10.6 ('ML_env')",
   "language": "python",
   "name": "python3"
  },
  "language_info": {
   "codemirror_mode": {
    "name": "ipython",
    "version": 3
   },
   "file_extension": ".py",
   "mimetype": "text/x-python",
   "name": "python",
   "nbconvert_exporter": "python",
   "pygments_lexer": "ipython3",
   "version": "3.10.6"
  },
  "vscode": {
   "interpreter": {
    "hash": "32b1dc8ad1fb39ea5be90e273f638abf213ab954063c5fcfa6c0bb53d8927201"
   }
  }
 },
 "nbformat": 4,
 "nbformat_minor": 4
}
